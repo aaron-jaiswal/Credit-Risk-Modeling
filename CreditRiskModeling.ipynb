{
  "nbformat": 4,
  "nbformat_minor": 0,
  "metadata": {
    "colab": {
      "provenance": []
    },
    "kernelspec": {
      "name": "python3",
      "display_name": "Python 3"
    },
    "language_info": {
      "name": "python"
    }
  },
  "cells": [
    {
      "cell_type": "code",
      "source": [
        "import pandas as pd\n",
        "\n",
        "cr_loan = pd.read_csv('/content/cr_loan_nout_nmiss.csv.csv')"
      ],
      "metadata": {
        "id": "MgiKIRYq3HwZ"
      },
      "execution_count": 3,
      "outputs": []
    },
    {
      "cell_type": "code",
      "source": [
        "#removing outliers\n",
        "indices = cr_loan[cr_loan['person_emp_length'] >= 60].index\n",
        "cr_loan.drop(indices, inplace=True)"
      ],
      "metadata": {
        "id": "egmu7deaIhyt"
      },
      "execution_count": 4,
      "outputs": []
    },
    {
      "cell_type": "code",
      "source": [
        "#Find Missing data\n",
        "null_columns = cr_loan.columns[cr_loan.isnull().any()]\n",
        "cr_loan[null_columns].isnull().sum()"
      ],
      "metadata": {
        "colab": {
          "base_uri": "https://localhost:8080/"
        },
        "id": "OkD_UOI6JOg0",
        "outputId": "f1abce32-c20b-4188-dbcb-61cf8f648ffd"
      },
      "execution_count": 5,
      "outputs": [
        {
          "output_type": "execute_result",
          "data": {
            "text/plain": [
              "Series([], dtype: float64)"
            ]
          },
          "metadata": {},
          "execution_count": 5
        }
      ]
    },
    {
      "cell_type": "code",
      "source": [
        "#Replace Missing data with median\n",
        "cr_loan['loan_int_rate'].fillna((cr_loan['loan_int_rate'].mean()), inplace = True)\n"
      ],
      "metadata": {
        "id": "Z65RhbvoJW86"
      },
      "execution_count": 6,
      "outputs": []
    },
    {
      "cell_type": "code",
      "source": [
        "#Drop missing data\n",
        "indices = cr_loan[cr_loan['person_emp_length'].isnull()].index\n",
        "cr_loan.drop(indices, inplace=True)\n"
      ],
      "metadata": {
        "id": "YZRlwk-uJgPN"
      },
      "execution_count": 7,
      "outputs": []
    },
    {
      "cell_type": "code",
      "source": [
        "cr_loan_clean = pd.read_csv('/content/cr_loan_nout_nmiss.csv.csv')"
      ],
      "metadata": {
        "id": "aMzWPDsKI5Ht"
      },
      "execution_count": 8,
      "outputs": []
    },
    {
      "cell_type": "code",
      "source": [
        "# Separate the numeric columns\n",
        "cred_num = cr_loan_clean.select_dtypes(exclude=['object'])\n",
        "# Separate non-numeric columns\n",
        "cred_cat = cr_loan_clean.select_dtypes(include=['object'])\n",
        "\n",
        "# One-hot encode the non-numeric columns only\n",
        "cred_cat_onehot = pd.get_dummies(cred_cat)\n",
        "# Union the numeric columns with the one-hot encoded column\n",
        "cr_loan_clean = pd.concat([cred_num, cred_cat_onehot], axis=1)"
      ],
      "metadata": {
        "id": "D_hmdH1kQiIT"
      },
      "execution_count": 9,
      "outputs": []
    },
    {
      "cell_type": "code",
      "source": [
        "from sklearn.linear_model import LogisticRegression\n",
        "from sklearn.model_selection import train_test_split\n",
        "import numpy as np\n",
        "\n",
        "# Create the X and y data sets\n",
        "X = cr_loan_clean.drop(['loan_status', 'person_home_ownership_OWN'], axis = 1)\n",
        "y = cr_loan_clean[['loan_status']]\n",
        "\n",
        "# Use test_train_split to create the training and test sets\n",
        "X_train, X_test, y_train, y_test = train_test_split(X, y, test_size=.4, random_state=123)"
      ],
      "metadata": {
        "id": "1x0uvJKsQiKi"
      },
      "execution_count": 18,
      "outputs": []
    },
    {
      "cell_type": "markdown",
      "source": [],
      "metadata": {
        "id": "SN5Sj7CGT9nk"
      }
    },
    {
      "cell_type": "code",
      "source": [
        "X.columns"
      ],
      "metadata": {
        "colab": {
          "base_uri": "https://localhost:8080/"
        },
        "id": "735BU3ELTWfG",
        "outputId": "da70b18a-988a-4ee9-f122-e72b13c6b7ff"
      },
      "execution_count": 19,
      "outputs": [
        {
          "output_type": "execute_result",
          "data": {
            "text/plain": [
              "Index(['person_age', 'person_income', 'person_emp_length', 'loan_amnt',\n",
              "       'loan_int_rate', 'loan_percent_income', 'cb_person_cred_hist_length',\n",
              "       'person_home_ownership_MORTGAGE', 'person_home_ownership_OTHER',\n",
              "       'person_home_ownership_RENT', 'loan_intent_DEBTCONSOLIDATION',\n",
              "       'loan_intent_EDUCATION', 'loan_intent_HOMEIMPROVEMENT',\n",
              "       'loan_intent_MEDICAL', 'loan_intent_PERSONAL', 'loan_intent_VENTURE',\n",
              "       'loan_grade_A', 'loan_grade_B', 'loan_grade_C', 'loan_grade_D',\n",
              "       'loan_grade_E', 'loan_grade_F', 'loan_grade_G',\n",
              "       'cb_person_default_on_file_N', 'cb_person_default_on_file_Y'],\n",
              "      dtype='object')"
            ]
          },
          "metadata": {},
          "execution_count": 19
        }
      ]
    },
    {
      "cell_type": "code",
      "source": [
        "# Create and fit a logistic regression model\n",
        "clf_logistic_single = LogisticRegression(solver='lbfgs')\n",
        "clf_logistic_single.fit(X, np.ravel(y))"
      ],
      "metadata": {
        "colab": {
          "base_uri": "https://localhost:8080/",
          "height": 74
        },
        "id": "Gh4EfYMdQiGE",
        "outputId": "d8f9ea9c-4051-4481-fdcd-8a8869abfb2a"
      },
      "execution_count": 20,
      "outputs": [
        {
          "output_type": "execute_result",
          "data": {
            "text/plain": [
              "LogisticRegression()"
            ],
            "text/html": [
              "<style>#sk-container-id-1 {color: black;background-color: white;}#sk-container-id-1 pre{padding: 0;}#sk-container-id-1 div.sk-toggleable {background-color: white;}#sk-container-id-1 label.sk-toggleable__label {cursor: pointer;display: block;width: 100%;margin-bottom: 0;padding: 0.3em;box-sizing: border-box;text-align: center;}#sk-container-id-1 label.sk-toggleable__label-arrow:before {content: \"▸\";float: left;margin-right: 0.25em;color: #696969;}#sk-container-id-1 label.sk-toggleable__label-arrow:hover:before {color: black;}#sk-container-id-1 div.sk-estimator:hover label.sk-toggleable__label-arrow:before {color: black;}#sk-container-id-1 div.sk-toggleable__content {max-height: 0;max-width: 0;overflow: hidden;text-align: left;background-color: #f0f8ff;}#sk-container-id-1 div.sk-toggleable__content pre {margin: 0.2em;color: black;border-radius: 0.25em;background-color: #f0f8ff;}#sk-container-id-1 input.sk-toggleable__control:checked~div.sk-toggleable__content {max-height: 200px;max-width: 100%;overflow: auto;}#sk-container-id-1 input.sk-toggleable__control:checked~label.sk-toggleable__label-arrow:before {content: \"▾\";}#sk-container-id-1 div.sk-estimator input.sk-toggleable__control:checked~label.sk-toggleable__label {background-color: #d4ebff;}#sk-container-id-1 div.sk-label input.sk-toggleable__control:checked~label.sk-toggleable__label {background-color: #d4ebff;}#sk-container-id-1 input.sk-hidden--visually {border: 0;clip: rect(1px 1px 1px 1px);clip: rect(1px, 1px, 1px, 1px);height: 1px;margin: -1px;overflow: hidden;padding: 0;position: absolute;width: 1px;}#sk-container-id-1 div.sk-estimator {font-family: monospace;background-color: #f0f8ff;border: 1px dotted black;border-radius: 0.25em;box-sizing: border-box;margin-bottom: 0.5em;}#sk-container-id-1 div.sk-estimator:hover {background-color: #d4ebff;}#sk-container-id-1 div.sk-parallel-item::after {content: \"\";width: 100%;border-bottom: 1px solid gray;flex-grow: 1;}#sk-container-id-1 div.sk-label:hover label.sk-toggleable__label {background-color: #d4ebff;}#sk-container-id-1 div.sk-serial::before {content: \"\";position: absolute;border-left: 1px solid gray;box-sizing: border-box;top: 0;bottom: 0;left: 50%;z-index: 0;}#sk-container-id-1 div.sk-serial {display: flex;flex-direction: column;align-items: center;background-color: white;padding-right: 0.2em;padding-left: 0.2em;position: relative;}#sk-container-id-1 div.sk-item {position: relative;z-index: 1;}#sk-container-id-1 div.sk-parallel {display: flex;align-items: stretch;justify-content: center;background-color: white;position: relative;}#sk-container-id-1 div.sk-item::before, #sk-container-id-1 div.sk-parallel-item::before {content: \"\";position: absolute;border-left: 1px solid gray;box-sizing: border-box;top: 0;bottom: 0;left: 50%;z-index: -1;}#sk-container-id-1 div.sk-parallel-item {display: flex;flex-direction: column;z-index: 1;position: relative;background-color: white;}#sk-container-id-1 div.sk-parallel-item:first-child::after {align-self: flex-end;width: 50%;}#sk-container-id-1 div.sk-parallel-item:last-child::after {align-self: flex-start;width: 50%;}#sk-container-id-1 div.sk-parallel-item:only-child::after {width: 0;}#sk-container-id-1 div.sk-dashed-wrapped {border: 1px dashed gray;margin: 0 0.4em 0.5em 0.4em;box-sizing: border-box;padding-bottom: 0.4em;background-color: white;}#sk-container-id-1 div.sk-label label {font-family: monospace;font-weight: bold;display: inline-block;line-height: 1.2em;}#sk-container-id-1 div.sk-label-container {text-align: center;}#sk-container-id-1 div.sk-container {/* jupyter's `normalize.less` sets `[hidden] { display: none; }` but bootstrap.min.css set `[hidden] { display: none !important; }` so we also need the `!important` here to be able to override the default hidden behavior on the sphinx rendered scikit-learn.org. See: https://github.com/scikit-learn/scikit-learn/issues/21755 */display: inline-block !important;position: relative;}#sk-container-id-1 div.sk-text-repr-fallback {display: none;}</style><div id=\"sk-container-id-1\" class=\"sk-top-container\"><div class=\"sk-text-repr-fallback\"><pre>LogisticRegression()</pre><b>In a Jupyter environment, please rerun this cell to show the HTML representation or trust the notebook. <br />On GitHub, the HTML representation is unable to render, please try loading this page with nbviewer.org.</b></div><div class=\"sk-container\" hidden><div class=\"sk-item\"><div class=\"sk-estimator sk-toggleable\"><input class=\"sk-toggleable__control sk-hidden--visually\" id=\"sk-estimator-id-1\" type=\"checkbox\" checked><label for=\"sk-estimator-id-1\" class=\"sk-toggleable__label sk-toggleable__label-arrow\">LogisticRegression</label><div class=\"sk-toggleable__content\"><pre>LogisticRegression()</pre></div></div></div></div></div>"
            ]
          },
          "metadata": {},
          "execution_count": 20
        }
      ]
    },
    {
      "cell_type": "code",
      "source": [
        "# Check the accuracy against the test data\n",
        "clf_logistic_single.score(X_test,y_test)\n",
        "\n"
      ],
      "metadata": {
        "colab": {
          "base_uri": "https://localhost:8080/"
        },
        "id": "8m2nlsO4IHvf",
        "outputId": "b522c788-9603-4665-9ed2-8724336193a3"
      },
      "execution_count": 23,
      "outputs": [
        {
          "output_type": "execute_result",
          "data": {
            "text/plain": [
              "0.8026137135098439"
            ]
          },
          "metadata": {},
          "execution_count": 23
        }
      ]
    },
    {
      "cell_type": "code",
      "source": [
        "# Print the parameters of the model\n",
        "print(clf_logistic_single.get_params())\n",
        "\n",
        "# Print the intercept of the model\n",
        "print(clf_logistic_single.intercept_)"
      ],
      "metadata": {
        "colab": {
          "base_uri": "https://localhost:8080/"
        },
        "id": "23OWgSQdVUnX",
        "outputId": "9a46611e-0b26-4744-b952-daa5f4b91638"
      },
      "execution_count": 24,
      "outputs": [
        {
          "output_type": "stream",
          "name": "stdout",
          "text": [
            "{'C': 1.0, 'class_weight': None, 'dual': False, 'fit_intercept': True, 'intercept_scaling': 1, 'l1_ratio': None, 'max_iter': 100, 'multi_class': 'auto', 'n_jobs': None, 'penalty': 'l2', 'random_state': None, 'solver': 'lbfgs', 'tol': 0.0001, 'verbose': 0, 'warm_start': False}\n",
            "[-2.17611518e-09]\n"
          ]
        }
      ]
    },
    {
      "cell_type": "code",
      "source": [
        "# Create predictions of probability for loan status using test data\n",
        "preds = clf_logistic_single.predict_proba(X_test)\n",
        "\n",
        "# Create dataframes of first five predictions, and first five true labels\n",
        "preds_df = pd.DataFrame(preds[:,1][0:5], columns = ['prob_default'])\n",
        "true_df = y_test.head()\n",
        "\n",
        "# Concatenate and print the two data frames for comparison\n",
        "print(pd.concat([true_df.reset_index(drop = True), preds_df], axis = 1))"
      ],
      "metadata": {
        "colab": {
          "base_uri": "https://localhost:8080/"
        },
        "id": "5S69x1iPJbRq",
        "outputId": "f9b12df0-fa94-4917-bed2-afa49118ddb1"
      },
      "execution_count": 28,
      "outputs": [
        {
          "output_type": "stream",
          "name": "stdout",
          "text": [
            "   loan_status  prob_default\n",
            "0            1      0.445125\n",
            "1            1      0.221721\n",
            "2            0      0.286980\n",
            "3            0      0.167608\n",
            "4            1      0.112640\n"
          ]
        }
      ]
    },
    {
      "cell_type": "code",
      "source": [
        "from sklearn.metrics import classification_report\n",
        "# Create a dataframe for the probabilities of default\n",
        "preds_df = pd.DataFrame(preds[:,1], columns = ['prob_default'])\n",
        "\n",
        "# Reassign loan status based on the threshold\n",
        "preds_df['loan_status'] = preds_df['prob_default'].apply(lambda x: 1 if x > 0.50 else 0)\n",
        "\n",
        "# Print the row counts for each loan status\n",
        "print(preds_df['loan_status'].value_counts())\n",
        "\n",
        "# Print the classification report\n",
        "target_names = ['Non-Default', 'Default']\n",
        "print(classification_report(y_test, preds_df['loan_status'], target_names=target_names))"
      ],
      "metadata": {
        "colab": {
          "base_uri": "https://localhost:8080/"
        },
        "id": "WuOhav72WPQ1",
        "outputId": "3259715b-4f90-460e-e941-ccd6933ddbd9"
      },
      "execution_count": 29,
      "outputs": [
        {
          "output_type": "stream",
          "name": "stdout",
          "text": [
            "loan_status\n",
            "0    11176\n",
            "1      608\n",
            "Name: count, dtype: int64\n",
            "              precision    recall  f1-score   support\n",
            "\n",
            " Non-Default       0.81      0.98      0.89      9198\n",
            "     Default       0.71      0.17      0.27      2586\n",
            "\n",
            "    accuracy                           0.80     11784\n",
            "   macro avg       0.76      0.57      0.58     11784\n",
            "weighted avg       0.79      0.80      0.75     11784\n",
            "\n"
          ]
        }
      ]
    },
    {
      "cell_type": "code",
      "source": [
        "from sklearn import metrics\n",
        "from matplotlib import pyplot as plt\n",
        "from sklearn.metrics import roc_auc_score\n",
        "\n",
        "# Create predictions and store them in a variable\n",
        "preds = clf_logistic_single.predict_proba(X_test)\n",
        "\n",
        "# Print the accuracy score the model\n",
        "print(clf_logistic_single.score(X_test, y_test))\n",
        "\n",
        "# Plot the ROC curve of the probabilities of default\n",
        "prob_default = preds[:, 1]\n",
        "fallout, sensitivity, thresholds = metrics.roc_curve(y_test, prob_default)\n",
        "plt.plot(fallout, sensitivity, color = 'darkorange')\n",
        "plt.plot([0, 1], [0, 1], linestyle='--')\n",
        "plt.show()\n",
        "\n",
        "# Compute the AUC and store it in a variable\n",
        "auc = roc_auc_score(y_test, prob_default)"
      ],
      "metadata": {
        "colab": {
          "base_uri": "https://localhost:8080/",
          "height": 447
        },
        "id": "aFBzbMB-Wpxl",
        "outputId": "2be5c69d-3ad7-41f5-9450-19e8b9815c94"
      },
      "execution_count": 31,
      "outputs": [
        {
          "output_type": "stream",
          "name": "stdout",
          "text": [
            "0.8026137135098439\n"
          ]
        },
        {
          "output_type": "display_data",
          "data": {
            "text/plain": [
              "<Figure size 640x480 with 1 Axes>"
            ],
            "image/png": "[encoded data removed]"
          },
          "metadata": {}
        }
      ]
    },
    {
      "cell_type": "code",
      "source": [
        "from sklearn.metrics import confusion_matrix\n",
        "# Set the threshold for defaults to 0.5\n",
        "preds_df['loan_status'] = preds_df['prob_default'].apply(lambda x: 1 if x > 0.5 else 0)\n",
        "\n",
        "# Print the confusion matrix\n",
        "print(confusion_matrix(y_test,preds_df['loan_status']))"
      ],
      "metadata": {
        "colab": {
          "base_uri": "https://localhost:8080/"
        },
        "id": "EWuySkUoXfQD",
        "outputId": "de22d132-df80-4436-a59d-2ba8a70d3a41"
      },
      "execution_count": 32,
      "outputs": [
        {
          "output_type": "stream",
          "name": "stdout",
          "text": [
            "[[9024  174]\n",
            " [2152  434]]\n"
          ]
        }
      ]
    },
    {
      "cell_type": "code",
      "source": [
        "from sklearn.metrics import precision_recall_fscore_support\n",
        "# Reassign the values of loan status based on the new threshold\n",
        "preds_df['loan_status'] = preds_df['prob_default'].apply(lambda x: 1 if x > 0.4 else 0)\n",
        "\n",
        "# Store the number of loan defaults from the prediction data\n",
        "num_defaults = preds_df['loan_status'].value_counts()[1]\n",
        "\n",
        "# Store the default recall from the classification report\n",
        "default_recall = precision_recall_fscore_support(y_test,preds_df['loan_status'])[1][1]\n",
        "\n",
        "# Calculate the estimated impact of the new default recall rate\n",
        "print(num_defaults * avg_loan_amnt * (1 - default_recall))"
      ],
      "metadata": {
        "colab": {
          "base_uri": "https://localhost:8080/",
          "height": 173
        },
        "id": "W0tCIWX8X1gG",
        "outputId": "95e7142c-e700-43e5-f114-720e066e8711"
      },
      "execution_count": null,
      "outputs": [
        {
          "output_type": "error",
          "ename": "NameError",
          "evalue": "name 'avg_loan_amnt' is not defined",
          "traceback": [
            "\u001b[0;31m---------------------------------------------------------------------------\u001b[0m",
            "\u001b[0;31mNameError\u001b[0m                                 Traceback (most recent call last)",
            "\u001b[0;32m<ipython-input-21-bffb1048c95e>\u001b[0m in \u001b[0;36m<cell line: 12>\u001b[0;34m()\u001b[0m\n\u001b[1;32m     10\u001b[0m \u001b[0;34m\u001b[0m\u001b[0m\n\u001b[1;32m     11\u001b[0m \u001b[0;31m# Calculate the estimated impact of the new default recall rate\u001b[0m\u001b[0;34m\u001b[0m\u001b[0;34m\u001b[0m\u001b[0m\n\u001b[0;32m---> 12\u001b[0;31m \u001b[0mprint\u001b[0m\u001b[0;34m(\u001b[0m\u001b[0mnum_defaults\u001b[0m \u001b[0;34m*\u001b[0m \u001b[0mavg_loan_amnt\u001b[0m \u001b[0;34m*\u001b[0m \u001b[0;34m(\u001b[0m\u001b[0;36m1\u001b[0m \u001b[0;34m-\u001b[0m \u001b[0mdefault_recall\u001b[0m\u001b[0;34m)\u001b[0m\u001b[0;34m)\u001b[0m\u001b[0;34m\u001b[0m\u001b[0;34m\u001b[0m\u001b[0m\n\u001b[0m",
            "\u001b[0;31mNameError\u001b[0m: name 'avg_loan_amnt' is not defined"
          ]
        }
      ]
    },
    {
      "cell_type": "code",
      "source": [
        "import xgboost as xgb\n",
        "# Create a gradient boosted tree model\n",
        "clf_gbt = xgb.XGBClassifier(learning_rate = 0.2, max_depth = 4)\n",
        "#learning rate: smaller makes more conservative\n",
        "#max_depth: how deep each tree can go, making more complex\n",
        "\n",
        "\n"
      ],
      "metadata": {
        "id": "hXvG5ldZRBag"
      },
      "execution_count": 33,
      "outputs": []
    },
    {
      "cell_type": "code",
      "source": [
        "# Train the model\n",
        "clf_gbt.fit(X_train,np.ravel(y_train))\n",
        "# Print the feature importances\n",
        "clf_gbt.get_booster().get_score(importance_type = 'weight')"
      ],
      "metadata": {
        "colab": {
          "base_uri": "https://localhost:8080/"
        },
        "id": "dr9QaRdgWd4M",
        "outputId": "c8dc9226-efe3-4f4f-9dae-3962ff694db7"
      },
      "execution_count": 34,
      "outputs": [
        {
          "output_type": "execute_result",
          "data": {
            "text/plain": [
              "{'person_age': 87.0,\n",
              " 'person_income': 281.0,\n",
              " 'person_emp_length': 93.0,\n",
              " 'loan_amnt': 102.0,\n",
              " 'loan_int_rate': 148.0,\n",
              " 'loan_percent_income': 132.0,\n",
              " 'cb_person_cred_hist_length': 35.0,\n",
              " 'person_home_ownership_MORTGAGE': 22.0,\n",
              " 'person_home_ownership_OTHER': 10.0,\n",
              " 'person_home_ownership_RENT': 49.0,\n",
              " 'loan_intent_DEBTCONSOLIDATION': 27.0,\n",
              " 'loan_intent_EDUCATION': 17.0,\n",
              " 'loan_intent_HOMEIMPROVEMENT': 29.0,\n",
              " 'loan_intent_MEDICAL': 35.0,\n",
              " 'loan_intent_PERSONAL': 14.0,\n",
              " 'loan_intent_VENTURE': 24.0,\n",
              " 'loan_grade_A': 1.0,\n",
              " 'loan_grade_B': 10.0,\n",
              " 'loan_grade_C': 31.0,\n",
              " 'loan_grade_D': 29.0,\n",
              " 'loan_grade_E': 15.0,\n",
              " 'loan_grade_F': 9.0,\n",
              " 'loan_grade_G': 17.0,\n",
              " 'cb_person_default_on_file_N': 4.0}"
            ]
          },
          "metadata": {},
          "execution_count": 34
        }
      ]
    },
    {
      "cell_type": "code",
      "source": [
        "#plotting feature importance\n",
        "xgb.plot_importance(clf_gbt, importance_type = 'weight')"
      ],
      "metadata": {
        "id": "cwazFH5XWoUV",
        "colab": {
          "base_uri": "https://localhost:8080/",
          "height": 489
        },
        "outputId": "b26cd2cc-e312-436e-ca17-b822817d70bf"
      },
      "execution_count": 35,
      "outputs": [
        {
          "output_type": "execute_result",
          "data": {
            "text/plain": [
              "<Axes: title={'center': 'Feature importance'}, xlabel='F score', ylabel='Features'>"
            ]
          },
          "metadata": {},
          "execution_count": 35
        },
        {
          "output_type": "display_data",
          "data": {
            "text/plain": [
              "<Figure size 640x480 with 1 Axes>"
            ],
            "image/png": "[encoded data removed]"
          },
          "metadata": {}
        }
      ]
    },
    {
      "cell_type": "code",
      "source": [
        "# Set the number of folds\n",
        "n_folds = 2\n",
        "# Set early stopping number\n",
        "early_stop = 5\n",
        "# Set any specific parameters for cross validation\n",
        "params = {'objective': 'binary:logistic','seed': 99, 'eval_metric':'auc'}"
      ],
      "metadata": {
        "id": "MKQtqUqqY8Gw"
      },
      "execution_count": 36,
      "outputs": []
    },
    {
      "cell_type": "code",
      "source": [
        "# Restructure the train data for xgboost\n",
        "DTrain = xgb.DMatrix(X_train, label = y_train)\n",
        "# Perform cross validation\n",
        "xgb.cv(params, DTrain, num_boost_round = 5, nfold=n_folds, early_stopping_rounds=early_stop)"
      ],
      "metadata": {
        "id": "CE5M2bKoZNPm",
        "colab": {
          "base_uri": "https://localhost:8080/",
          "height": 204
        },
        "outputId": "4b5b59f8-4138-4d69-8c2b-04c88de7d50c"
      },
      "execution_count": 37,
      "outputs": [
        {
          "output_type": "execute_result",
          "data": {
            "text/plain": [
              "   train-auc-mean  train-auc-std  test-auc-mean  test-auc-std\n",
              "0        0.904163       0.001138       0.886037      0.007796\n",
              "1        0.908559       0.005334       0.894034      0.000144\n",
              "2        0.914913       0.002881       0.899132      0.001694\n",
              "3        0.922782       0.000562       0.906345      0.001899\n",
              "4        0.926911       0.000535       0.909473      0.000649"
            ],
            "text/html": [
              "\n",
              "  <div id=\"df-134adbaf-1462-43da-961b-e89df6e4fdc5\" class=\"colab-df-container\">\n",
              "    <div>\n",
              "<style scoped>\n",
              "    .dataframe tbody tr th:only-of-type {\n",
              "        vertical-align: middle;\n",
              "    }\n",
              "\n",
              "    .dataframe tbody tr th {\n",
              "        vertical-align: top;\n",
              "    }\n",
              "\n",
              "    .dataframe thead th {\n",
              "        text-align: right;\n",
              "    }\n",
              "</style>\n",
              "<table border=\"1\" class=\"dataframe\">\n",
              "  <thead>\n",
              "    <tr style=\"text-align: right;\">\n",
              "      <th></th>\n",
              "      <th>train-auc-mean</th>\n",
              "      <th>train-auc-std</th>\n",
              "      <th>test-auc-mean</th>\n",
              "      <th>test-auc-std</th>\n",
              "    </tr>\n",
              "  </thead>\n",
              "  <tbody>\n",
              "    <tr>\n",
              "      <th>0</th>\n",
              "      <td>0.904163</td>\n",
              "      <td>0.001138</td>\n",
              "      <td>0.886037</td>\n",
              "      <td>0.007796</td>\n",
              "    </tr>\n",
              "    <tr>\n",
              "      <th>1</th>\n",
              "      <td>0.908559</td>\n",
              "      <td>0.005334</td>\n",
              "      <td>0.894034</td>\n",
              "      <td>0.000144</td>\n",
              "    </tr>\n",
              "    <tr>\n",
              "      <th>2</th>\n",
              "      <td>0.914913</td>\n",
              "      <td>0.002881</td>\n",
              "      <td>0.899132</td>\n",
              "      <td>0.001694</td>\n",
              "    </tr>\n",
              "    <tr>\n",
              "      <th>3</th>\n",
              "      <td>0.922782</td>\n",
              "      <td>0.000562</td>\n",
              "      <td>0.906345</td>\n",
              "      <td>0.001899</td>\n",
              "    </tr>\n",
              "    <tr>\n",
              "      <th>4</th>\n",
              "      <td>0.926911</td>\n",
              "      <td>0.000535</td>\n",
              "      <td>0.909473</td>\n",
              "      <td>0.000649</td>\n",
              "    </tr>\n",
              "  </tbody>\n",
              "</table>\n",
              "</div>\n",
              "    <div class=\"colab-df-buttons\">\n",
              "\n",
              "  <div class=\"colab-df-container\">\n",
              "    <button class=\"colab-df-convert\" onclick=\"convertToInteractive('df-134adbaf-1462-43da-961b-e89df6e4fdc5')\"\n",
              "            title=\"Convert this dataframe to an interactive table.\"\n",
              "            style=\"display:none;\">\n",
              "\n",
              "  <svg xmlns=\"http://www.w3.org/2000/svg\" height=\"24px\" viewBox=\"0 -960 960 960\">\n",
              "    <path d=\"M120-120v-720h720v720H120Zm60-500h600v-160H180v160Zm220 220h160v-160H400v160Zm0 220h160v-160H400v160ZM180-400h160v-160H180v160Zm440 0h160v-160H620v160ZM180-180h160v-160H180v160Zm440 0h160v-160H620v160Z\"/>\n",
              "  </svg>\n",
              "    </button>\n",
              "\n",
              "  <style>\n",
              "    .colab-df-container {\n",
              "      display:flex;\n",
              "      gap: 12px;\n",
              "    }\n",
              "\n",
              "    .colab-df-convert {\n",
              "      background-color: #E8F0FE;\n",
              "      border: none;\n",
              "      border-radius: 50%;\n",
              "      cursor: pointer;\n",
              "      display: none;\n",
              "      fill: #1967D2;\n",
              "      height: 32px;\n",
              "      padding: 0 0 0 0;\n",
              "      width: 32px;\n",
              "    }\n",
              "\n",
              "    .colab-df-convert:hover {\n",
              "      background-color: #E2EBFA;\n",
              "      box-shadow: 0px 1px 2px rgba(60, 64, 67, 0.3), 0px 1px 3px 1px rgba(60, 64, 67, 0.15);\n",
              "      fill: #174EA6;\n",
              "    }\n",
              "\n",
              "    .colab-df-buttons div {\n",
              "      margin-bottom: 4px;\n",
              "    }\n",
              "\n",
              "    [theme=dark] .colab-df-convert {\n",
              "      background-color: #3B4455;\n",
              "      fill: #D2E3FC;\n",
              "    }\n",
              "\n",
              "    [theme=dark] .colab-df-convert:hover {\n",
              "      background-color: #434B5C;\n",
              "      box-shadow: 0px 1px 3px 1px rgba(0, 0, 0, 0.15);\n",
              "      filter: drop-shadow(0px 1px 2px rgba(0, 0, 0, 0.3));\n",
              "      fill: #FFFFFF;\n",
              "    }\n",
              "  </style>\n",
              "\n",
              "    <script>\n",
              "      const buttonEl =\n",
              "        document.querySelector('#df-134adbaf-1462-43da-961b-e89df6e4fdc5 button.colab-df-convert');\n",
              "      buttonEl.style.display =\n",
              "        google.colab.kernel.accessAllowed ? 'block' : 'none';\n",
              "\n",
              "      async function convertToInteractive(key) {\n",
              "        const element = document.querySelector('#df-134adbaf-1462-43da-961b-e89df6e4fdc5');\n",
              "        const dataTable =\n",
              "          await google.colab.kernel.invokeFunction('convertToInteractive',\n",
              "                                                    [key], {});\n",
              "        if (!dataTable) return;\n",
              "\n",
              "        const docLinkHtml = 'Like what you see? Visit the ' +\n",
              "          '<a target=\"_blank\" href=https://colab.research.google.com/notebooks/data_table.ipynb>data table notebook</a>'\n",
              "          + ' to learn more about interactive tables.';\n",
              "        element.innerHTML = '';\n",
              "        dataTable['output_type'] = 'display_data';\n",
              "        await google.colab.output.renderOutput(dataTable, element);\n",
              "        const docLink = document.createElement('div');\n",
              "        docLink.innerHTML = docLinkHtml;\n",
              "        element.appendChild(docLink);\n",
              "      }\n",
              "    </script>\n",
              "  </div>\n",
              "\n",
              "\n",
              "<div id=\"df-c251b7dd-bae9-46f9-be51-2a5cd8175edc\">\n",
              "  <button class=\"colab-df-quickchart\" onclick=\"quickchart('df-c251b7dd-bae9-46f9-be51-2a5cd8175edc')\"\n",
              "            title=\"Suggest charts\"\n",
              "            style=\"display:none;\">\n",
              "\n",
              "<svg xmlns=\"http://www.w3.org/2000/svg\" height=\"24px\"viewBox=\"0 0 24 24\"\n",
              "     width=\"24px\">\n",
              "    <g>\n",
              "        <path d=\"M19 3H5c-1.1 0-2 .9-2 2v14c0 1.1.9 2 2 2h14c1.1 0 2-.9 2-2V5c0-1.1-.9-2-2-2zM9 17H7v-7h2v7zm4 0h-2V7h2v10zm4 0h-2v-4h2v4z\"/>\n",
              "    </g>\n",
              "</svg>\n",
              "  </button>\n",
              "\n",
              "<style>\n",
              "  .colab-df-quickchart {\n",
              "      --bg-color: #E8F0FE;\n",
              "      --fill-color: #1967D2;\n",
              "      --hover-bg-color: #E2EBFA;\n",
              "      --hover-fill-color: #174EA6;\n",
              "      --disabled-fill-color: #AAA;\n",
              "      --disabled-bg-color: #DDD;\n",
              "  }\n",
              "\n",
              "  [theme=dark] .colab-df-quickchart {\n",
              "      --bg-color: #3B4455;\n",
              "      --fill-color: #D2E3FC;\n",
              "      --hover-bg-color: #434B5C;\n",
              "      --hover-fill-color: #FFFFFF;\n",
              "      --disabled-bg-color: #3B4455;\n",
              "      --disabled-fill-color: #666;\n",
              "  }\n",
              "\n",
              "  .colab-df-quickchart {\n",
              "    background-color: var(--bg-color);\n",
              "    border: none;\n",
              "    border-radius: 50%;\n",
              "    cursor: pointer;\n",
              "    display: none;\n",
              "    fill: var(--fill-color);\n",
              "    height: 32px;\n",
              "    padding: 0;\n",
              "    width: 32px;\n",
              "  }\n",
              "\n",
              "  .colab-df-quickchart:hover {\n",
              "    background-color: var(--hover-bg-color);\n",
              "    box-shadow: 0 1px 2px rgba(60, 64, 67, 0.3), 0 1px 3px 1px rgba(60, 64, 67, 0.15);\n",
              "    fill: var(--button-hover-fill-color);\n",
              "  }\n",
              "\n",
              "  .colab-df-quickchart-complete:disabled,\n",
              "  .colab-df-quickchart-complete:disabled:hover {\n",
              "    background-color: var(--disabled-bg-color);\n",
              "    fill: var(--disabled-fill-color);\n",
              "    box-shadow: none;\n",
              "  }\n",
              "\n",
              "  .colab-df-spinner {\n",
              "    border: 2px solid var(--fill-color);\n",
              "    border-color: transparent;\n",
              "    border-bottom-color: var(--fill-color);\n",
              "    animation:\n",
              "      spin 1s steps(1) infinite;\n",
              "  }\n",
              "\n",
              "  @keyframes spin {\n",
              "    0% {\n",
              "      border-color: transparent;\n",
              "      border-bottom-color: var(--fill-color);\n",
              "      border-left-color: var(--fill-color);\n",
              "    }\n",
              "    20% {\n",
              "      border-color: transparent;\n",
              "      border-left-color: var(--fill-color);\n",
              "      border-top-color: var(--fill-color);\n",
              "    }\n",
              "    30% {\n",
              "      border-color: transparent;\n",
              "      border-left-color: var(--fill-color);\n",
              "      border-top-color: var(--fill-color);\n",
              "      border-right-color: var(--fill-color);\n",
              "    }\n",
              "    40% {\n",
              "      border-color: transparent;\n",
              "      border-right-color: var(--fill-color);\n",
              "      border-top-color: var(--fill-color);\n",
              "    }\n",
              "    60% {\n",
              "      border-color: transparent;\n",
              "      border-right-color: var(--fill-color);\n",
              "    }\n",
              "    80% {\n",
              "      border-color: transparent;\n",
              "      border-right-color: var(--fill-color);\n",
              "      border-bottom-color: var(--fill-color);\n",
              "    }\n",
              "    90% {\n",
              "      border-color: transparent;\n",
              "      border-bottom-color: var(--fill-color);\n",
              "    }\n",
              "  }\n",
              "</style>\n",
              "\n",
              "  <script>\n",
              "    async function quickchart(key) {\n",
              "      const quickchartButtonEl =\n",
              "        document.querySelector('#' + key + ' button');\n",
              "      quickchartButtonEl.disabled = true;  // To prevent multiple clicks.\n",
              "      quickchartButtonEl.classList.add('colab-df-spinner');\n",
              "      try {\n",
              "        const charts = await google.colab.kernel.invokeFunction(\n",
              "            'suggestCharts', [key], {});\n",
              "      } catch (error) {\n",
              "        console.error('Error during call to suggestCharts:', error);\n",
              "      }\n",
              "      quickchartButtonEl.classList.remove('colab-df-spinner');\n",
              "      quickchartButtonEl.classList.add('colab-df-quickchart-complete');\n",
              "    }\n",
              "    (() => {\n",
              "      let quickchartButtonEl =\n",
              "        document.querySelector('#df-c251b7dd-bae9-46f9-be51-2a5cd8175edc button');\n",
              "      quickchartButtonEl.style.display =\n",
              "        google.colab.kernel.accessAllowed ? 'block' : 'none';\n",
              "    })();\n",
              "  </script>\n",
              "</div>\n",
              "\n",
              "    </div>\n",
              "  </div>\n"
            ],
            "application/vnd.google.colaboratory.intrinsic+json": {
              "type": "dataframe",
              "summary": "{\n  \"name\": \"xgb\",\n  \"rows\": 5,\n  \"fields\": [\n    {\n      \"column\": \"train-auc-mean\",\n      \"properties\": {\n        \"dtype\": \"number\",\n        \"std\": 0.009490682005882968,\n        \"min\": 0.9041631700681811,\n        \"max\": 0.9269114010211443,\n        \"num_unique_values\": 5,\n        \"samples\": [\n          0.9085590324554598,\n          0.9269114010211443,\n          0.9149125233283595\n        ],\n        \"semantic_type\": \"\",\n        \"description\": \"\"\n      }\n    },\n    {\n      \"column\": \"train-auc-std\",\n      \"properties\": {\n        \"dtype\": \"number\",\n        \"std\": 0.002050106550421438,\n        \"min\": 0.000534572155215074,\n        \"max\": 0.005334284387178423,\n        \"num_unique_values\": 5,\n        \"samples\": [\n          0.005334284387178423,\n          0.000534572155215074,\n          0.0028809331488137135\n        ],\n        \"semantic_type\": \"\",\n        \"description\": \"\"\n      }\n    },\n    {\n      \"column\": \"test-auc-mean\",\n      \"properties\": {\n        \"dtype\": \"number\",\n        \"std\": 0.009438740781182479,\n        \"min\": 0.8860365431397317,\n        \"max\": 0.9094725948776403,\n        \"num_unique_values\": 5,\n        \"samples\": [\n          0.8940336232189097,\n          0.9094725948776403,\n          0.8991323120796023\n        ],\n        \"semantic_type\": \"\",\n        \"description\": \"\"\n      }\n    },\n    {\n      \"column\": \"test-auc-std\",\n      \"properties\": {\n        \"dtype\": \"number\",\n        \"std\": 0.003082847861625394,\n        \"min\": 0.00014424328524298424,\n        \"max\": 0.007796153364203473,\n        \"num_unique_values\": 5,\n        \"samples\": [\n          0.00014424328524298424,\n          0.0006488328714116531,\n          0.0016942784362302676\n        ],\n        \"semantic_type\": \"\",\n        \"description\": \"\"\n      }\n    }\n  ]\n}"
            }
          },
          "metadata": {},
          "execution_count": 37
        }
      ]
    },
    {
      "cell_type": "code",
      "source": [
        "#cross validation scoring\n",
        "# Import the module\n",
        "from sklearn.model_selection import cross_val_score\n",
        "# Create a gbt model\n",
        "xg = xgb.XGBClassifier(learning_rate = 0.4, max_depth = 10)\n",
        "# Use cross valudation and accuracy scores 5 consecutive times\n",
        "cross_val_score(clf_gbt, X_train, y_train, cv = 5)\n"
      ],
      "metadata": {
        "id": "FjMpKyS7ZhYU",
        "colab": {
          "base_uri": "https://localhost:8080/"
        },
        "outputId": "4f888e3c-3f6d-414b-9941-f81f44ee6687"
      },
      "execution_count": 38,
      "outputs": [
        {
          "output_type": "execute_result",
          "data": {
            "text/plain": [
              "array([0.94031117, 0.93465347, 0.92899576, 0.93352192, 0.92107496])"
            ]
          },
          "metadata": {},
          "execution_count": 38
        }
      ]
    },
    {
      "cell_type": "code",
      "source": [
        "# Concat the training sets\n",
        "X_y_train = pd.concat([X_train.reset_index(drop = True), y_train.reset_index(drop = True)], axis = 1)\n",
        "# Get the counts of defaults and non-defaults\n",
        "count_nondefault, count_default = X_y_train['loan_status'].value_counts()\n",
        "# Separate nondefaults and defaults\n",
        "nondefaults = X_y_train[X_y_train['loan_status'] == 0]\n",
        "defaults = X_y_train[X_y_train['loan_status'] == 1]\n"
      ],
      "metadata": {
        "id": "jPfAHCnOxNVG"
      },
      "execution_count": 39,
      "outputs": []
    },
    {
      "cell_type": "code",
      "source": [
        "# Undersample the non-defaults using sample() in pandas\n",
        "nondefaults_under = nondefaults.sample(count_default)\n",
        "# Concat the undersampled non-defaults with the defaults\n",
        "X_y_train_under = pd.concat([nondefaults_under.reset_index(drop = True), defaults.reset_index(drop = True)], axis=0)\n"
      ],
      "metadata": {
        "id": "zx0Y2AUGzUIW"
      },
      "execution_count": 40,
      "outputs": []
    },
    {
      "cell_type": "code",
      "source": [
        "# Compute the threshold for 85% acceptance rate\n",
        "threshold = np.quantile(prob_default, 0.85)"
      ],
      "metadata": {
        "id": "yH7q1y181vWn"
      },
      "execution_count": 42,
      "outputs": []
    },
    {
      "cell_type": "code",
      "source": [
        "#implementing threshold\n",
        "preds_df['loan_status'] = preds_df['prob_default'].apply(lambda x: 1if x > 0.804 else 0)"
      ],
      "metadata": {
        "id": "g-dCSmeTa6Vk"
      },
      "execution_count": 43,
      "outputs": []
    },
    {
      "cell_type": "code",
      "source": [
        "# Set all the acceptance rates to test\n",
        "accept_rates = [1.0, 0.95, 0.9, 0.85, 0.8, 0.75, 0.7, 0.65, 0.6, 0.55,0.5, 0.45, 0.4, 0.35, 0.3, 0.25, 0.2, 0.15, 0.1, 0.05]\n",
        "# Create lists to store thresholds and bad rates\n",
        "thresholds = []\n",
        "bad_rates = []"
      ],
      "metadata": {
        "id": "1WEgxFtMNoVB"
      },
      "execution_count": 46,
      "outputs": []
    },
    {
      "cell_type": "code",
      "source": [
        "for rate in accept_rates:\n",
        "  # Calculate threshold\n",
        "  threshold = np.quantile(preds_df['prob_default'], rate).round(3)\n",
        "  # Store threshold value in a list\n",
        "  thresholds.append(np.quantile(preds_gbt['prob_default'], rate).round(3))\n",
        "  # Apply the threshold to reassign loan_status\n",
        "  test_pred_df['pred_loan_status'] = \\\n",
        "  test_pred_df['prob_default'].apply(lambda x: 1if x > thresh else 0)\n",
        "  # Create accepted loans set of predicted non-defaults\n",
        "  accepted_loans = test_pred_df[test_pred_df['pred_loan_status'] == 0]\n",
        "  # Calculate and store bad rate\n",
        "  bad_rates.append(np.sum((accepted_loans['true_loan_status'])\n",
        "  / accepted_loans['true_loan_status'].count()).round(3))"
      ],
      "metadata": {
        "id": "caFrZcHSPP1K"
      },
      "execution_count": null,
      "outputs": []
    },
    {
      "cell_type": "code",
      "source": [
        "#creating a strategy table\n",
        "strat_df = pd.DataFrame(zip(accept_rates, thresholds, bad_rates), columns = ['Acceptance Rate','Threshold','Bad Rate'])\n"
      ],
      "metadata": {
        "id": "EaVC7eUnPkFm"
      },
      "execution_count": null,
      "outputs": []
    }
  ]
}